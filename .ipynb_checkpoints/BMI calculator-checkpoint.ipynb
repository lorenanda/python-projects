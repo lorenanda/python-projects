{
 "cells": [
  {
   "cell_type": "code",
   "execution_count": 1,
   "metadata": {},
   "outputs": [],
   "source": [
    "# Define the individuals\n",
    "\n",
    "name1 = \"Jack\"\n",
    "height_m1 = 1.91\n",
    "weight_kg1 = 97\n",
    "\n",
    "name2 = \"Wendy\"\n",
    "height_m2 = 1.73\n",
    "weight_kg2 = 61\n",
    "\n",
    "name3 = \"Danny\"\n",
    "height_m3 = 1.49\n",
    "weight_kg3 = 43"
   ]
  },
  {
   "cell_type": "code",
   "execution_count": 2,
   "metadata": {},
   "outputs": [],
   "source": [
    "# Define the function for calculating the BMI\n",
    "\n",
    "def bmi_calculator(name, height_m, weight_kg):\n",
    "    bmi = weight_kg / (height_m ** 2)\n",
    "    print(\"bmi: \")\n",
    "    print(bmi)\n",
    "    if bmi < 25:\n",
    "        return name + \" is not overweight.\"\n",
    "    else:\n",
    "        return name + \" is overweight.\""
   ]
  },
  {
   "cell_type": "code",
   "execution_count": 3,
   "metadata": {},
   "outputs": [
    {
     "name": "stdout",
     "output_type": "stream",
     "text": [
      "bmi: \n",
      "26.589183410542475\n",
      "Jack is overweight.\n"
     ]
    }
   ],
   "source": [
    "result1 = bmi_calculator(name1, height_m1, weight_kg1)\n",
    "print(result1)"
   ]
  },
  {
   "cell_type": "code",
   "execution_count": 4,
   "metadata": {},
   "outputs": [
    {
     "name": "stdout",
     "output_type": "stream",
     "text": [
      "bmi: \n",
      "20.381569714992146\n",
      "Wendy is not overweight.\n"
     ]
    }
   ],
   "source": [
    "result2 = bmi_calculator(name2, height_m2, weight_kg2)\n",
    "print(result2)"
   ]
  },
  {
   "cell_type": "code",
   "execution_count": 5,
   "metadata": {},
   "outputs": [
    {
     "name": "stdout",
     "output_type": "stream",
     "text": [
      "bmi: \n",
      "19.3684969145534\n",
      "Danny is not overweight.\n"
     ]
    }
   ],
   "source": [
    "result3 = bmi_calculator(name3, height_m3, weight_kg3)\n",
    "print(result3)"
   ]
  },
  {
   "cell_type": "code",
   "execution_count": null,
   "metadata": {},
   "outputs": [],
   "source": []
  }
 ],
 "metadata": {
  "kernelspec": {
   "display_name": "Python 3",
   "language": "python",
   "name": "python3"
  },
  "language_info": {
   "codemirror_mode": {
    "name": "ipython",
    "version": 3
   },
   "file_extension": ".py",
   "mimetype": "text/x-python",
   "name": "python",
   "nbconvert_exporter": "python",
   "pygments_lexer": "ipython3",
   "version": "3.6.10"
  }
 },
 "nbformat": 4,
 "nbformat_minor": 2
}
