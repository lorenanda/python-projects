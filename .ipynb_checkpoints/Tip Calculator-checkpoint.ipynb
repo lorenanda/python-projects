{
 "cells": [
  {
   "cell_type": "code",
   "execution_count": 1,
   "metadata": {},
   "outputs": [
    {
     "name": "stdout",
     "output_type": "stream",
     "text": [
      "How much is the bill ?\n",
      "\n",
      "How many people ?\n",
      "\n",
      "What Percentage of Tip ?\n",
      "\n",
      "Calculating Payment...\n",
      "Each Person pays $16.22 for the bill\n",
      "Each Person pays $2.43 for the tip\n",
      "Which means each person will pay a total of $18.65\n"
     ]
    }
   ],
   "source": [
    "def payments(bill, people):\n",
    "    try:\n",
    "        return round((bill / people), 2)\n",
    "    except:\n",
    "        print(\"An error occured with the payments calculation\")\n",
    "\n",
    "\n",
    "def tip(bill, percentage, people):\n",
    "    try:\n",
    "        return round(((bill * (percentage / 100.00)) / people), 2)\n",
    "    except:\n",
    "        print(\"An error occured with the tip calculation\")\n",
    "    \n",
    "\n",
    "\n",
    "def main():\n",
    "    print(\"How much is the bill ?\")\n",
    "    while True:\n",
    "        try:\n",
    "            total_bill = float(input())\n",
    "            break\n",
    "        except:\n",
    "            print(\"\")\n",
    "            print(\"Must be a number value\")\n",
    "            print(\"\")\n",
    "    print(\"\")\n",
    "\n",
    "    print(\"How many people ?\")\n",
    "    while True:\n",
    "        try:\n",
    "            nr_people = int(input())\n",
    "            break\n",
    "        except:\n",
    "            print(\"\")\n",
    "            print(\"Must be a number value\")\n",
    "            print(\"\")\n",
    "    print(\"\")\n",
    "\n",
    "    print(\"What Percentage of Tip ?\")\n",
    "    while True:\n",
    "        try:\n",
    "            percentage = int(input())\n",
    "            break\n",
    "        except:\n",
    "            print(\"\")\n",
    "            print(\"Must be a number value\")\n",
    "            print(\"\")\n",
    "\n",
    "    print(\"\")\n",
    "    print(\"Calculating Payment...\")\n",
    "\n",
    "    bill_payment = payments(total_bill, nr_people)\n",
    "    tip_payment = tip(total_bill, percentage, nr_people)\n",
    "    total_payment = bill_payment + tip_payment\n",
    "    \n",
    "    print('Each Person pays $%s for the bill' % \\\n",
    "          str(bill_payment))\n",
    "    print('Each Person pays $%s for the tip' % \\\n",
    "          str(tip_payment))\n",
    "    print('Which means each person will pay a total of $%s' % \\\n",
    "          str(total_payment))\n",
    "\n",
    "if __name__ == '__main__':\n",
    "    main()"
   ]
  },
  {
   "cell_type": "code",
   "execution_count": null,
   "metadata": {},
   "outputs": [],
   "source": []
  }
 ],
 "metadata": {
  "kernelspec": {
   "display_name": "Python 3",
   "language": "python",
   "name": "python3"
  },
  "language_info": {
   "codemirror_mode": {
    "name": "ipython",
    "version": 3
   },
   "file_extension": ".py",
   "mimetype": "text/x-python",
   "name": "python",
   "nbconvert_exporter": "python",
   "pygments_lexer": "ipython3",
   "version": "3.6.5"
  }
 },
 "nbformat": 4,
 "nbformat_minor": 2
}
