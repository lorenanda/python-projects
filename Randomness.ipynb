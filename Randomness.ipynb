{
 "cells": [
  {
   "cell_type": "code",
   "execution_count": 19,
   "metadata": {},
   "outputs": [
    {
     "name": "stdout",
     "output_type": "stream",
     "text": [
      "Heads count:  54\n",
      "Tails count:  46\n"
     ]
    }
   ],
   "source": [
    "#Here are two short examples of how to play with randomness in python: tossing a coin and rolling a dice.\n",
    "\n",
    "#1. Toss a coin\n",
    "\n",
    "import random  #import the 'random' library\n",
    "\n",
    "heads = 0\n",
    "tails = 0\n",
    "count = 0\n",
    "\n",
    "while count < 100:  #Simulate the outcomes of tossing a coin 100 times with a 'while' loop\n",
    "    coin = random.randrange(2)\n",
    "    if coin == 0:\n",
    "        heads += 1\n",
    "    else:\n",
    "        tails +=1\n",
    "    count += 1\n",
    "    \n",
    "print(\"Heads count: \", heads)\n",
    "print(\"Tails count: \", tails)"
   ]
  },
  {
   "cell_type": "code",
   "execution_count": 20,
   "metadata": {},
   "outputs": [
    {
     "name": "stdout",
     "output_type": "stream",
     "text": [
      "Heads count:  55\n",
      "Tails count:  45\n"
     ]
    }
   ],
   "source": [
    "#Another method\n",
    "\n",
    "class Coin:\n",
    "    def toss(self):  #define the tossing event\n",
    "        res = random.uniform(0, 1) #For the coin  toss, values between 0 and 1 are randomly generated.\n",
    "        return res\n",
    "\n",
    "#Set the coin variables\n",
    "coin = Coin()\n",
    "heads = 0\n",
    "tails = 0\n",
    "\n",
    "for i in range(100):  #Simulate the outcomes of tossing a coin 100 times with a 'for' loop\n",
    "    if coin.toss() < 0.5:\n",
    "        heads += 1\n",
    "    else:\n",
    "        tails += 1\n",
    "        \n",
    "print(\"Heads count: \", heads)\n",
    "print(\"Tails count: \", tails)"
   ]
  },
  {
   "cell_type": "code",
   "execution_count": 21,
   "metadata": {},
   "outputs": [
    {
     "name": "stdout",
     "output_type": "stream",
     "text": [
      "Result: 6\n"
     ]
    }
   ],
   "source": [
    "#2. Roll the dice: similar to the coin toss example, but slightly more complex, since a dice has 6 possible outcomes.\n",
    "\n",
    "import random\n",
    "\n",
    "class Dice:\n",
    "    def roll(self):\n",
    "        res = random.randrange(0, 7)\n",
    "        return res\n",
    "\n",
    "dice = Dice()\n",
    "print(\"Result:\", dice.roll())"
   ]
  }
 ],
 "metadata": {
  "kernelspec": {
   "display_name": "Python 3",
   "language": "python",
   "name": "python3"
  },
  "language_info": {
   "codemirror_mode": {
    "name": "ipython",
    "version": 3
   },
   "file_extension": ".py",
   "mimetype": "text/x-python",
   "name": "python",
   "nbconvert_exporter": "python",
   "pygments_lexer": "ipython3",
   "version": "3.6.5"
  }
 },
 "nbformat": 4,
 "nbformat_minor": 2
}
