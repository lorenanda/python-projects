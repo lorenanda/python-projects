{
 "metadata": {
  "language_info": {
   "codemirror_mode": {
    "name": "ipython",
    "version": 3
   },
   "file_extension": ".py",
   "mimetype": "text/x-python",
   "name": "python",
   "nbconvert_exporter": "python",
   "pygments_lexer": "ipython3",
   "version": "3.6.10-final"
  },
  "orig_nbformat": 2,
  "kernelspec": {
   "name": "python3",
   "display_name": "Python 3"
  }
 },
 "nbformat": 4,
 "nbformat_minor": 2,
 "cells": [
  {
   "cell_type": "code",
   "execution_count": 14,
   "metadata": {
    "tags": []
   },
   "outputs": [
    {
     "output_type": "stream",
     "name": "stdout",
     "text": "Encrypted: rjjy rj ytsnlmy\nDecrypted: meet me tonight\n"
    }
   ],
   "source": [
    "key = 'abcdefghijklmnopqrstuvwxyz'\n",
    "\n",
    "def encrypt(n, plaintext):\n",
    "    result = ''\n",
    "\n",
    "    for l in plaintext.lower():\n",
    "        try:\n",
    "            i = (key.index(l) + n) % 26\n",
    "            result += key[i]\n",
    "        except ValueError:\n",
    "            result += l\n",
    "\n",
    "    return result.lower()\n",
    "\n",
    "def decrypt(n, ciphertext):\n",
    "    \"\"\"Decrypt the string and return the plaintext\"\"\"\n",
    "    result = ''\n",
    "\n",
    "    for l in ciphertext:\n",
    "        try:\n",
    "            i = (key.index(l) - n) % 26\n",
    "            result += key[i]\n",
    "        except ValueError:\n",
    "            result += l\n",
    "\n",
    "    return result\n",
    "\n",
    "text = \"meet me tonight\"\n",
    "offset = 5\n",
    "\n",
    "encrypted = encrypt(offset, text)\n",
    "print('Encrypted:', encrypted)\n",
    "\n",
    "decrypted = decrypt(offset, encrypted)\n",
    "print('Decrypted:', decrypted)"
   ]
  },
  {
   "cell_type": "code",
   "execution_count": 11,
   "metadata": {
    "tags": []
   },
   "outputs": [
    {
     "output_type": "stream",
     "name": "stdout",
     "text": "Text  : MEETME\nShift : 4\nCipher: QIIXQI\n"
    }
   ],
   "source": [
    "# ENCRYPTION\n",
    "\n",
    "def encrypt(text, s): \n",
    "    result = \"\" \n",
    "  \n",
    "    # traverse text \n",
    "    for i in range(len(text)): \n",
    "        char = text[i] \n",
    "  \n",
    "        # Encrypt uppercase characters \n",
    "        if (char.isupper()): \n",
    "            result += chr((ord(char) + s - 65) % 26 + 65) \n",
    "  \n",
    "        # Encrypt lowercase characters \n",
    "        else: \n",
    "            result += chr((ord(char) + s - 97) % 26 + 97) \n",
    "  \n",
    "    return result \n",
    "  \n",
    "#text = \"MEETMETONIGHT\"\n",
    "text = input()\n",
    "s = 4\n",
    "\n",
    "print(\"Text  : \" + text) \n",
    "print(\"Shift : \" + str(s))\n",
    "print(\"Cipher: \" + encrypt(text,s))"
   ]
  },
  {
   "cell_type": "code",
   "execution_count": 10,
   "metadata": {
    "tags": []
   },
   "outputs": [
    {
     "output_type": "stream",
     "name": "stdout",
     "text": "Hacking key #25: RJJYRJYTSNLMY\n"
    }
   ],
   "source": [
    "# DECRIPTION\n",
    "\n",
    "message = 'QIIXQIXSRMKLX' #encrypted message\n",
    "LETTERS = 'ABCDEFGHIJKLMNOPQRSTUVWXYZ'\n",
    "\n",
    "for key in range(len(LETTERS)):\n",
    "   translated = ''\n",
    "   for symbol in message:\n",
    "      if symbol in LETTERS:\n",
    "         num = LETTERS.find(symbol)\n",
    "         num = num - key\n",
    "         if num < 0:\n",
    "            num = num + len(LETTERS)\n",
    "         translated = translated + LETTERS[num]\n",
    "      else:\n",
    "         translated = translated + symbol\n",
    "print('Hacking key #%s: %s' % (key, translated))"
   ]
  },
  {
   "cell_type": "code",
   "execution_count": null,
   "metadata": {},
   "outputs": [],
   "source": []
  }
 ]
}